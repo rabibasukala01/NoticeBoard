{
 "cells": [
  {
   "cell_type": "markdown",
   "id": "04172cdc",
   "metadata": {},
   "source": [
    "## Educational Purpose"
   ]
  },
  {
   "cell_type": "code",
   "execution_count": 1,
   "id": "0fa3907a",
   "metadata": {},
   "outputs": [],
   "source": [
    "import requests\n",
    "from bs4 import BeautifulSoup"
   ]
  },
  {
   "cell_type": "markdown",
   "id": "252d083c",
   "metadata": {},
   "source": [
    "### main url of college"
   ]
  },
  {
   "cell_type": "code",
   "execution_count": 2,
   "id": "29933877",
   "metadata": {},
   "outputs": [],
   "source": [
    "url=\"https://www.khec.edu.np/notice/index.html\""
   ]
  },
  {
   "cell_type": "code",
   "execution_count": 3,
   "id": "27b8a788",
   "metadata": {},
   "outputs": [],
   "source": [
    "result=requests.get(url)"
   ]
  },
  {
   "cell_type": "code",
   "execution_count": null,
   "id": "f6ee68de",
   "metadata": {},
   "outputs": [],
   "source": [
    "# result.text"
   ]
  },
  {
   "cell_type": "code",
   "execution_count": 4,
   "id": "8e92e6a4",
   "metadata": {},
   "outputs": [],
   "source": [
    "soup=BeautifulSoup(result.text,\"html.parser\")"
   ]
  },
  {
   "cell_type": "code",
   "execution_count": 5,
   "id": "0884483e",
   "metadata": {},
   "outputs": [],
   "source": [
    "title=soup.find(\"h1\",{\"class\":\"title-median\"})\n",
    "# title"
   ]
  },
  {
   "cell_type": "markdown",
   "id": "adb647f5",
   "metadata": {},
   "source": [
    "## getting a tag inside h1"
   ]
  },
  {
   "cell_type": "code",
   "execution_count": 6,
   "id": "6f350ca7",
   "metadata": {},
   "outputs": [],
   "source": [
    "Next_url=title.find(\"a\")[\"href\"]"
   ]
  },
  {
   "cell_type": "markdown",
   "id": "d055c709",
   "metadata": {},
   "source": [
    "#### requesting again?"
   ]
  },
  {
   "cell_type": "code",
   "execution_count": 7,
   "id": "7ac86653",
   "metadata": {},
   "outputs": [],
   "source": [
    "result=requests.get(Next_url)"
   ]
  },
  {
   "cell_type": "code",
   "execution_count": 8,
   "id": "4ce89614",
   "metadata": {},
   "outputs": [],
   "source": [
    "soup=BeautifulSoup(result.text,\"html.parser\")\n",
    "\n",
    "img=soup.find(\"img\",{\"class\":\"img-responsive img-thumbnail\"})"
   ]
  },
  {
   "cell_type": "markdown",
   "id": "b81443d1",
   "metadata": {},
   "source": [
    "## for image link "
   ]
  },
  {
   "cell_type": "code",
   "execution_count": null,
   "id": "495e3432",
   "metadata": {},
   "outputs": [],
   "source": [
    "img"
   ]
  },
  {
   "cell_type": "code",
   "execution_count": 9,
   "id": "61e890c2",
   "metadata": {},
   "outputs": [],
   "source": [
    "img_url=img[\"src\"]"
   ]
  },
  {
   "cell_type": "code",
   "execution_count": null,
   "id": "478896e8",
   "metadata": {},
   "outputs": [],
   "source": []
  },
  {
   "cell_type": "markdown",
   "id": "d94f0b7f",
   "metadata": {},
   "source": [
    "## for full image address link"
   ]
  },
  {
   "cell_type": "code",
   "execution_count": 10,
   "id": "61fcd642",
   "metadata": {},
   "outputs": [],
   "source": [
    "img_url=\"https://www.khec.edu.np/\"+img_url"
   ]
  },
  {
   "cell_type": "code",
   "execution_count": null,
   "id": "087fbc9f",
   "metadata": {
    "scrolled": true
   },
   "outputs": [],
   "source": [
    "img_url"
   ]
  },
  {
   "cell_type": "markdown",
   "id": "45f2728f",
   "metadata": {},
   "source": [
    "### taking image extension"
   ]
  },
  {
   "cell_type": "code",
   "execution_count": 11,
   "id": "00305210",
   "metadata": {},
   "outputs": [
    {
     "data": {
      "text/plain": [
       "'jpg'"
      ]
     },
     "execution_count": 11,
     "metadata": {},
     "output_type": "execute_result"
    }
   ],
   "source": [
    "img_format=img_url.split(\".\")[-1]\n",
    "img_format"
   ]
  },
  {
   "cell_type": "code",
   "execution_count": 12,
   "id": "5724e6cb",
   "metadata": {},
   "outputs": [],
   "source": [
    "notice=requests.get(img_url)"
   ]
  },
  {
   "cell_type": "code",
   "execution_count": null,
   "id": "727f8746",
   "metadata": {},
   "outputs": [],
   "source": [
    "# notice.content"
   ]
  },
  {
   "cell_type": "markdown",
   "id": "d03303c6",
   "metadata": {},
   "source": [
    "# storing the img"
   ]
  },
  {
   "cell_type": "code",
   "execution_count": 13,
   "id": "b6a66f76",
   "metadata": {},
   "outputs": [],
   "source": [
    "with open(f\"notice.{img_format}\",\"wb\") as f:\n",
    "    f.write(notice.content)"
   ]
  },
  {
   "cell_type": "markdown",
   "id": "01cabc58",
   "metadata": {},
   "source": [
    "# showing image in local "
   ]
  },
  {
   "cell_type": "code",
   "execution_count": null,
   "id": "f8cb171f",
   "metadata": {},
   "outputs": [],
   "source": [
    "from PIL import Image\n",
    "\n",
    "image = Image.open('notice.jpg')\n",
    "image.show()"
   ]
  },
  {
   "cell_type": "code",
   "execution_count": null,
   "id": "0b375b9c",
   "metadata": {},
   "outputs": [],
   "source": []
  },
  {
   "cell_type": "code",
   "execution_count": null,
   "id": "1d49e42c",
   "metadata": {},
   "outputs": [],
   "source": []
  }
 ],
 "metadata": {
  "kernelspec": {
   "display_name": "Python 3 (ipykernel)",
   "language": "python",
   "name": "python3"
  },
  "language_info": {
   "codemirror_mode": {
    "name": "ipython",
    "version": 3
   },
   "file_extension": ".py",
   "mimetype": "text/x-python",
   "name": "python",
   "nbconvert_exporter": "python",
   "pygments_lexer": "ipython3",
   "version": "3.7.8"
  }
 },
 "nbformat": 4,
 "nbformat_minor": 5
}
